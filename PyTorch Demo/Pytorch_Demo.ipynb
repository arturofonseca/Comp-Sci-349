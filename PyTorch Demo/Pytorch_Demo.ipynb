{
 "nbformat": 4,
 "nbformat_minor": 0,
 "metadata": {
  "colab": {
   "provenance": []
  },
  "kernelspec": {
   "name": "python3",
   "language": "python",
   "display_name": "Python 3 (ipykernel)"
  },
  "language_info": {
   "name": "python"
  },
  "accelerator": "GPU"
 },
 "cells": [
  {
   "cell_type": "markdown",
   "metadata": {
    "id": "RJ2u12v1N4wk"
   },
   "source": [
    "Just some imports to get out of the way"
   ]
  },
  {
   "cell_type": "code",
   "metadata": {
    "id": "yC20O-RCNrOE",
    "ExecuteTime": {
     "end_time": "2023-11-17T20:10:54.921656Z",
     "start_time": "2023-11-17T20:10:51.487765Z"
    }
   },
   "source": [
    "import torch\n",
    "from torch import nn\n",
    "from torch.utils.data import DataLoader\n",
    "from torchvision import datasets\n",
    "from torchvision.transforms import ToTensor, Lambda, Compose\n",
    "import matplotlib.pyplot as plt\n",
    "import pandas as pd\n",
    "import numpy as np\n",
    "from sklearn.preprocessing import MinMaxScaler\n",
    "import datetime\n",
    "\n",
    "%matplotlib inline"
   ],
   "execution_count": 1,
   "outputs": []
  },
  {
   "cell_type": "code",
   "metadata": {
    "id": "jnAr-qY3Y2So",
    "ExecuteTime": {
     "end_time": "2023-11-17T20:25:15.524906Z",
     "start_time": "2023-11-17T20:25:15.518354Z"
    }
   },
   "source": [
    "device = \"cuda\" if torch.cuda.is_available() else \"cpu\""
   ],
   "execution_count": 8,
   "outputs": []
  },
  {
   "cell_type": "markdown",
   "metadata": {
    "id": "-B76PDi1RS97"
   },
   "source": [
    "## Working with tensors"
   ]
  },
  {
   "cell_type": "code",
   "metadata": {
    "id": "xNmchcUWVLBk",
    "ExecuteTime": {
     "end_time": "2023-11-17T20:11:47.298704Z",
     "start_time": "2023-11-17T20:11:47.288893Z"
    }
   },
   "source": [
    "n, k = 5, 5"
   ],
   "execution_count": 3,
   "outputs": []
  },
  {
   "cell_type": "code",
   "metadata": {
    "id": "s2FeWFEDSHH6",
    "colab": {
     "base_uri": "https://localhost:8080/"
    },
    "executionInfo": {
     "status": "ok",
     "timestamp": 1700028871640,
     "user_tz": 360,
     "elapsed": 22,
     "user": {
      "displayName": "David Demeter",
      "userId": "06375543898056971431"
     }
    },
    "outputId": "f02fe710-174a-4b2b-ec18-44069ed9a28e",
    "ExecuteTime": {
     "end_time": "2023-11-17T20:11:52.381607Z",
     "start_time": "2023-11-17T20:11:52.369375Z"
    }
   },
   "source": [
    "x = torch.tensor([i for i in range(25)])\n",
    "x"
   ],
   "execution_count": 4,
   "outputs": [
    {
     "data": {
      "text/plain": "tensor([ 0,  1,  2,  3,  4,  5,  6,  7,  8,  9, 10, 11, 12, 13, 14, 15, 16, 17,\n        18, 19, 20, 21, 22, 23, 24])"
     },
     "execution_count": 4,
     "metadata": {},
     "output_type": "execute_result"
    }
   ]
  },
  {
   "cell_type": "code",
   "source": [
    "# We can manipulate the shape of our data, adding and subtract dimensions.\n",
    "x = x.reshape(5, 5)\n",
    "x"
   ],
   "metadata": {
    "colab": {
     "base_uri": "https://localhost:8080/"
    },
    "id": "V9cOgNCtOahB",
    "executionInfo": {
     "status": "ok",
     "timestamp": 1700028871640,
     "user_tz": 360,
     "elapsed": 12,
     "user": {
      "displayName": "David Demeter",
      "userId": "06375543898056971431"
     }
    },
    "outputId": "8d17af3f-abf7-43e1-9f8c-e487e3949300",
    "ExecuteTime": {
     "end_time": "2023-11-17T20:12:24.886769Z",
     "start_time": "2023-11-17T20:12:24.879372Z"
    }
   },
   "execution_count": 5,
   "outputs": [
    {
     "data": {
      "text/plain": "tensor([[ 0,  1,  2,  3,  4],\n        [ 5,  6,  7,  8,  9],\n        [10, 11, 12, 13, 14],\n        [15, 16, 17, 18, 19],\n        [20, 21, 22, 23, 24]])"
     },
     "execution_count": 5,
     "metadata": {},
     "output_type": "execute_result"
    }
   ]
  },
  {
   "cell_type": "code",
   "source": [
    "c = x.cuda()\n",
    "print(c)\n",
    "print(c[2][2])\n"
   ],
   "metadata": {
    "colab": {
     "base_uri": "https://localhost:8080/"
    },
    "id": "SvXZT2yq2LBO",
    "executionInfo": {
     "status": "ok",
     "timestamp": 1700028878988,
     "user_tz": 360,
     "elapsed": 7356,
     "user": {
      "displayName": "David Demeter",
      "userId": "06375543898056971431"
     }
    },
    "outputId": "75bbc0c2-5745-48dd-e851-2642e55aa654",
    "ExecuteTime": {
     "end_time": "2023-11-17T20:25:37.388293Z",
     "start_time": "2023-11-17T20:25:37.377791Z"
    }
   },
   "execution_count": 9,
   "outputs": [
    {
     "ename": "AssertionError",
     "evalue": "Torch not compiled with CUDA enabled",
     "output_type": "error",
     "traceback": [
      "\u001B[0;31m---------------------------------------------------------------------------\u001B[0m",
      "\u001B[0;31mAssertionError\u001B[0m                            Traceback (most recent call last)",
      "Cell \u001B[0;32mIn[9], line 1\u001B[0m\n\u001B[0;32m----> 1\u001B[0m c \u001B[38;5;241m=\u001B[39m x\u001B[38;5;241m.\u001B[39mcuda()\n\u001B[1;32m      2\u001B[0m \u001B[38;5;28mprint\u001B[39m(c)\n\u001B[1;32m      3\u001B[0m \u001B[38;5;28mprint\u001B[39m(c[\u001B[38;5;241m2\u001B[39m][\u001B[38;5;241m2\u001B[39m])\n",
      "File \u001B[0;32m~/anaconda3/lib/python3.11/site-packages/torch/cuda/__init__.py:239\u001B[0m, in \u001B[0;36m_lazy_init\u001B[0;34m()\u001B[0m\n\u001B[1;32m    235\u001B[0m     \u001B[38;5;28;01mraise\u001B[39;00m \u001B[38;5;167;01mRuntimeError\u001B[39;00m(\n\u001B[1;32m    236\u001B[0m         \u001B[38;5;124m\"\u001B[39m\u001B[38;5;124mCannot re-initialize CUDA in forked subprocess. To use CUDA with \u001B[39m\u001B[38;5;124m\"\u001B[39m\n\u001B[1;32m    237\u001B[0m         \u001B[38;5;124m\"\u001B[39m\u001B[38;5;124mmultiprocessing, you must use the \u001B[39m\u001B[38;5;124m'\u001B[39m\u001B[38;5;124mspawn\u001B[39m\u001B[38;5;124m'\u001B[39m\u001B[38;5;124m start method\u001B[39m\u001B[38;5;124m\"\u001B[39m)\n\u001B[1;32m    238\u001B[0m \u001B[38;5;28;01mif\u001B[39;00m \u001B[38;5;129;01mnot\u001B[39;00m \u001B[38;5;28mhasattr\u001B[39m(torch\u001B[38;5;241m.\u001B[39m_C, \u001B[38;5;124m'\u001B[39m\u001B[38;5;124m_cuda_getDeviceCount\u001B[39m\u001B[38;5;124m'\u001B[39m):\n\u001B[0;32m--> 239\u001B[0m     \u001B[38;5;28;01mraise\u001B[39;00m \u001B[38;5;167;01mAssertionError\u001B[39;00m(\u001B[38;5;124m\"\u001B[39m\u001B[38;5;124mTorch not compiled with CUDA enabled\u001B[39m\u001B[38;5;124m\"\u001B[39m)\n\u001B[1;32m    240\u001B[0m \u001B[38;5;28;01mif\u001B[39;00m _cudart \u001B[38;5;129;01mis\u001B[39;00m \u001B[38;5;28;01mNone\u001B[39;00m:\n\u001B[1;32m    241\u001B[0m     \u001B[38;5;28;01mraise\u001B[39;00m \u001B[38;5;167;01mAssertionError\u001B[39;00m(\n\u001B[1;32m    242\u001B[0m         \u001B[38;5;124m\"\u001B[39m\u001B[38;5;124mlibcudart functions unavailable. It looks like you have a broken build?\u001B[39m\u001B[38;5;124m\"\u001B[39m)\n",
      "\u001B[0;31mAssertionError\u001B[0m: Torch not compiled with CUDA enabled"
     ]
    }
   ]
  },
  {
   "cell_type": "code",
   "source": [
    "c = c.cpu()\n",
    "print(c)"
   ],
   "metadata": {
    "colab": {
     "base_uri": "https://localhost:8080/"
    },
    "id": "4xYF-8e32oGz",
    "executionInfo": {
     "status": "ok",
     "timestamp": 1700028878989,
     "user_tz": 360,
     "elapsed": 78,
     "user": {
      "displayName": "David Demeter",
      "userId": "06375543898056971431"
     }
    },
    "outputId": "230ab75f-9ed8-45e3-e60c-31404e51b627"
   },
   "execution_count": null,
   "outputs": [
    {
     "output_type": "stream",
     "name": "stdout",
     "text": [
      "tensor([[ 0,  1,  2,  3,  4],\n",
      "        [ 5,  6,  7,  8,  9],\n",
      "        [10, 11, 12, 13, 14],\n",
      "        [15, 16, 17, 18, 19],\n",
      "        [20, 21, 22, 23, 24]])\n"
     ]
    }
   ]
  },
  {
   "cell_type": "code",
   "metadata": {
    "id": "YKjBv94uUd92",
    "colab": {
     "base_uri": "https://localhost:8080/"
    },
    "executionInfo": {
     "status": "ok",
     "timestamp": 1700028878989,
     "user_tz": 360,
     "elapsed": 62,
     "user": {
      "displayName": "David Demeter",
      "userId": "06375543898056971431"
     }
    },
    "outputId": "2c841766-df46-432c-c3dc-a82e8924e5f4",
    "ExecuteTime": {
     "end_time": "2023-11-17T20:27:21.847578Z",
     "start_time": "2023-11-17T20:27:21.840226Z"
    }
   },
   "source": [
    "x = x.reshape(5, -1)\n",
    "x"
   ],
   "execution_count": 10,
   "outputs": [
    {
     "data": {
      "text/plain": "tensor([[ 0,  1,  2,  3,  4],\n        [ 5,  6,  7,  8,  9],\n        [10, 11, 12, 13, 14],\n        [15, 16, 17, 18, 19],\n        [20, 21, 22, 23, 24]])"
     },
     "execution_count": 10,
     "metadata": {},
     "output_type": "execute_result"
    }
   ]
  },
  {
   "cell_type": "code",
   "metadata": {
    "id": "L_wRb0TlUn2r",
    "colab": {
     "base_uri": "https://localhost:8080/"
    },
    "executionInfo": {
     "status": "ok",
     "timestamp": 1700028878989,
     "user_tz": 360,
     "elapsed": 52,
     "user": {
      "displayName": "David Demeter",
      "userId": "06375543898056971431"
     }
    },
    "outputId": "9cc93b2e-b68a-4835-dbe5-34c3497c8452",
    "ExecuteTime": {
     "end_time": "2023-11-17T20:27:48.924662Z",
     "start_time": "2023-11-17T20:27:48.918740Z"
    }
   },
   "source": [
    "x = x.unsqueeze(2)\n",
    "x"
   ],
   "execution_count": 11,
   "outputs": [
    {
     "data": {
      "text/plain": "tensor([[[ 0],\n         [ 1],\n         [ 2],\n         [ 3],\n         [ 4]],\n\n        [[ 5],\n         [ 6],\n         [ 7],\n         [ 8],\n         [ 9]],\n\n        [[10],\n         [11],\n         [12],\n         [13],\n         [14]],\n\n        [[15],\n         [16],\n         [17],\n         [18],\n         [19]],\n\n        [[20],\n         [21],\n         [22],\n         [23],\n         [24]]])"
     },
     "execution_count": 11,
     "metadata": {},
     "output_type": "execute_result"
    }
   ]
  },
  {
   "cell_type": "code",
   "metadata": {
    "id": "uGaBMMDwUPUA",
    "colab": {
     "base_uri": "https://localhost:8080/"
    },
    "executionInfo": {
     "status": "ok",
     "timestamp": 1700028878990,
     "user_tz": 360,
     "elapsed": 40,
     "user": {
      "displayName": "David Demeter",
      "userId": "06375543898056971431"
     }
    },
    "outputId": "236a3722-b04a-4e64-c0d0-87c85d0ef195",
    "ExecuteTime": {
     "end_time": "2023-11-17T20:31:25.598201Z",
     "start_time": "2023-11-17T20:31:25.594602Z"
    }
   },
   "source": [
    "x = x.squeeze()\n",
    "x"
   ],
   "execution_count": 12,
   "outputs": [
    {
     "data": {
      "text/plain": "tensor([[ 0,  1,  2,  3,  4],\n        [ 5,  6,  7,  8,  9],\n        [10, 11, 12, 13, 14],\n        [15, 16, 17, 18, 19],\n        [20, 21, 22, 23, 24]])"
     },
     "execution_count": 12,
     "metadata": {},
     "output_type": "execute_result"
    }
   ]
  },
  {
   "cell_type": "code",
   "metadata": {
    "id": "JSNWvzW7VAwQ",
    "colab": {
     "base_uri": "https://localhost:8080/"
    },
    "executionInfo": {
     "status": "ok",
     "timestamp": 1700028878990,
     "user_tz": 360,
     "elapsed": 30,
     "user": {
      "displayName": "David Demeter",
      "userId": "06375543898056971431"
     }
    },
    "outputId": "17bae96e-de35-404a-e0f0-0d83205daad2",
    "ExecuteTime": {
     "end_time": "2023-11-17T20:31:31.703891Z",
     "start_time": "2023-11-17T20:31:31.680817Z"
    }
   },
   "source": [
    "# Some useful short hands\n",
    "I = torch.eye(5)\n",
    "zeros = torch.zeros((n, k))\n",
    "ones = torch.ones((n, k))\n",
    "sevens = ones * 7\n",
    "\n",
    "print(I, '\\n')\n",
    "print(zeros, '\\n')\n",
    "print(ones,'\\n')\n",
    "print(sevens,'\\n')"
   ],
   "execution_count": 13,
   "outputs": [
    {
     "name": "stdout",
     "output_type": "stream",
     "text": [
      "tensor([[1., 0., 0., 0., 0.],\n",
      "        [0., 1., 0., 0., 0.],\n",
      "        [0., 0., 1., 0., 0.],\n",
      "        [0., 0., 0., 1., 0.],\n",
      "        [0., 0., 0., 0., 1.]]) \n",
      "\n",
      "tensor([[0., 0., 0., 0., 0.],\n",
      "        [0., 0., 0., 0., 0.],\n",
      "        [0., 0., 0., 0., 0.],\n",
      "        [0., 0., 0., 0., 0.],\n",
      "        [0., 0., 0., 0., 0.]]) \n",
      "\n",
      "tensor([[1., 1., 1., 1., 1.],\n",
      "        [1., 1., 1., 1., 1.],\n",
      "        [1., 1., 1., 1., 1.],\n",
      "        [1., 1., 1., 1., 1.],\n",
      "        [1., 1., 1., 1., 1.]]) \n",
      "\n",
      "tensor([[7., 7., 7., 7., 7.],\n",
      "        [7., 7., 7., 7., 7.],\n",
      "        [7., 7., 7., 7., 7.],\n",
      "        [7., 7., 7., 7., 7.],\n",
      "        [7., 7., 7., 7., 7.]]) \n"
     ]
    }
   ]
  },
  {
   "cell_type": "code",
   "metadata": {
    "id": "k12rienDV2jc",
    "colab": {
     "base_uri": "https://localhost:8080/"
    },
    "executionInfo": {
     "status": "ok",
     "timestamp": 1700028878990,
     "user_tz": 360,
     "elapsed": 20,
     "user": {
      "displayName": "David Demeter",
      "userId": "06375543898056971431"
     }
    },
    "outputId": "c02dc8cb-4e73-4541-f9ed-adcf603aa75f",
    "ExecuteTime": {
     "end_time": "2023-11-17T20:33:48.256020Z",
     "start_time": "2023-11-17T20:33:48.244511Z"
    }
   },
   "source": [
    "x.type(torch.float)"
   ],
   "execution_count": 14,
   "outputs": [
    {
     "data": {
      "text/plain": "tensor([[ 0.,  1.,  2.,  3.,  4.],\n        [ 5.,  6.,  7.,  8.,  9.],\n        [10., 11., 12., 13., 14.],\n        [15., 16., 17., 18., 19.],\n        [20., 21., 22., 23., 24.]])"
     },
     "execution_count": 14,
     "metadata": {},
     "output_type": "execute_result"
    }
   ]
  },
  {
   "cell_type": "markdown",
   "metadata": {
    "id": "fNzLigE-VuRO"
   },
   "source": [
    "## How about some math"
   ]
  },
  {
   "cell_type": "code",
   "metadata": {
    "id": "gBsE0ifZVwzY",
    "colab": {
     "base_uri": "https://localhost:8080/"
    },
    "executionInfo": {
     "status": "ok",
     "timestamp": 1700028878990,
     "user_tz": 360,
     "elapsed": 14,
     "user": {
      "displayName": "David Demeter",
      "userId": "06375543898056971431"
     }
    },
    "outputId": "3cdda39a-68e8-43db-808e-9ab13bab34fd",
    "ExecuteTime": {
     "end_time": "2023-11-17T20:33:53.255554Z",
     "start_time": "2023-11-17T20:33:53.247068Z"
    }
   },
   "source": [
    "x"
   ],
   "execution_count": 15,
   "outputs": [
    {
     "data": {
      "text/plain": "tensor([[ 0,  1,  2,  3,  4],\n        [ 5,  6,  7,  8,  9],\n        [10, 11, 12, 13, 14],\n        [15, 16, 17, 18, 19],\n        [20, 21, 22, 23, 24]])"
     },
     "execution_count": 15,
     "metadata": {},
     "output_type": "execute_result"
    }
   ]
  },
  {
   "cell_type": "code",
   "metadata": {
    "colab": {
     "base_uri": "https://localhost:8080/"
    },
    "id": "J3_SYZ46TAvG",
    "outputId": "6a89232d-a2b3-4521-f55f-9e7ceffc5a2b",
    "executionInfo": {
     "status": "ok",
     "timestamp": 1700028879705,
     "user_tz": 360,
     "elapsed": 73,
     "user": {
      "displayName": "David Demeter",
      "userId": "06375543898056971431"
     }
    },
    "ExecuteTime": {
     "end_time": "2023-11-17T20:33:59.047429Z",
     "start_time": "2023-11-17T20:33:59.039722Z"
    }
   },
   "source": [
    "x ** 2"
   ],
   "execution_count": 16,
   "outputs": [
    {
     "data": {
      "text/plain": "tensor([[  0,   1,   4,   9,  16],\n        [ 25,  36,  49,  64,  81],\n        [100, 121, 144, 169, 196],\n        [225, 256, 289, 324, 361],\n        [400, 441, 484, 529, 576]])"
     },
     "execution_count": 16,
     "metadata": {},
     "output_type": "execute_result"
    }
   ]
  },
  {
   "cell_type": "code",
   "metadata": {
    "id": "fle2CPLETBul",
    "colab": {
     "base_uri": "https://localhost:8080/"
    },
    "executionInfo": {
     "status": "ok",
     "timestamp": 1700028879705,
     "user_tz": 360,
     "elapsed": 67,
     "user": {
      "displayName": "David Demeter",
      "userId": "06375543898056971431"
     }
    },
    "outputId": "bf58b47d-0db9-4d80-a45b-9bf9c1fa3640",
    "ExecuteTime": {
     "end_time": "2023-11-17T20:34:04.674604Z",
     "start_time": "2023-11-17T20:34:04.667919Z"
    }
   },
   "source": [
    "x + 10"
   ],
   "execution_count": 17,
   "outputs": [
    {
     "data": {
      "text/plain": "tensor([[10, 11, 12, 13, 14],\n        [15, 16, 17, 18, 19],\n        [20, 21, 22, 23, 24],\n        [25, 26, 27, 28, 29],\n        [30, 31, 32, 33, 34]])"
     },
     "execution_count": 17,
     "metadata": {},
     "output_type": "execute_result"
    }
   ]
  },
  {
   "cell_type": "code",
   "metadata": {
    "id": "xt2DQH-BWOj4",
    "colab": {
     "base_uri": "https://localhost:8080/"
    },
    "executionInfo": {
     "status": "ok",
     "timestamp": 1700028879706,
     "user_tz": 360,
     "elapsed": 60,
     "user": {
      "displayName": "David Demeter",
      "userId": "06375543898056971431"
     }
    },
    "outputId": "4c999bc3-aeb6-4e00-8c90-1debb039306b",
    "ExecuteTime": {
     "end_time": "2023-11-17T20:34:18.179522Z",
     "start_time": "2023-11-17T20:34:18.170645Z"
    }
   },
   "source": [
    "1 / (x + 1)"
   ],
   "execution_count": 18,
   "outputs": [
    {
     "data": {
      "text/plain": "tensor([[1.0000, 0.5000, 0.3333, 0.2500, 0.2000],\n        [0.1667, 0.1429, 0.1250, 0.1111, 0.1000],\n        [0.0909, 0.0833, 0.0769, 0.0714, 0.0667],\n        [0.0625, 0.0588, 0.0556, 0.0526, 0.0500],\n        [0.0476, 0.0455, 0.0435, 0.0417, 0.0400]])"
     },
     "execution_count": 18,
     "metadata": {},
     "output_type": "execute_result"
    }
   ]
  },
  {
   "cell_type": "code",
   "metadata": {
    "id": "dVZCyhY-TITp",
    "colab": {
     "base_uri": "https://localhost:8080/"
    },
    "executionInfo": {
     "status": "ok",
     "timestamp": 1700028879706,
     "user_tz": 360,
     "elapsed": 52,
     "user": {
      "displayName": "David Demeter",
      "userId": "06375543898056971431"
     }
    },
    "outputId": "6ef7ac28-a66e-417c-c29e-7408df095b92",
    "ExecuteTime": {
     "end_time": "2023-11-17T20:34:20.038214Z",
     "start_time": "2023-11-17T20:34:20.031123Z"
    }
   },
   "source": [
    "print(x)\n",
    "x + torch.tensor([1, 2, 3, 4, 5])"
   ],
   "execution_count": 19,
   "outputs": [
    {
     "name": "stdout",
     "output_type": "stream",
     "text": [
      "tensor([[ 0,  1,  2,  3,  4],\n",
      "        [ 5,  6,  7,  8,  9],\n",
      "        [10, 11, 12, 13, 14],\n",
      "        [15, 16, 17, 18, 19],\n",
      "        [20, 21, 22, 23, 24]])\n"
     ]
    },
    {
     "data": {
      "text/plain": "tensor([[ 1,  3,  5,  7,  9],\n        [ 6,  8, 10, 12, 14],\n        [11, 13, 15, 17, 19],\n        [16, 18, 20, 22, 24],\n        [21, 23, 25, 27, 29]])"
     },
     "execution_count": 19,
     "metadata": {},
     "output_type": "execute_result"
    }
   ]
  },
  {
   "cell_type": "code",
   "metadata": {
    "id": "pnR82fyoSdlh",
    "colab": {
     "base_uri": "https://localhost:8080/"
    },
    "executionInfo": {
     "status": "ok",
     "timestamp": 1700028879706,
     "user_tz": 360,
     "elapsed": 43,
     "user": {
      "displayName": "David Demeter",
      "userId": "06375543898056971431"
     }
    },
    "outputId": "d7e1b591-80a0-4a0c-8cce-3c711d9c476a",
    "ExecuteTime": {
     "end_time": "2023-11-17T20:37:05.423466Z",
     "start_time": "2023-11-17T20:37:05.418236Z"
    }
   },
   "source": [
    "y = torch.rand(5, 5) * 25\n",
    "y"
   ],
   "execution_count": 20,
   "outputs": [
    {
     "data": {
      "text/plain": "tensor([[23.9547, 16.5278, 23.2319,  6.8121, 10.2862],\n        [ 4.8625, 21.3536,  5.9800, 11.3243, 20.9438],\n        [20.9362, 14.4239,  4.2016,  4.8402,  0.7503],\n        [12.7621,  3.9259,  4.9043,  4.9393, 15.4297],\n        [23.5191, 19.8224, 13.9897, 16.7979, 16.0322]])"
     },
     "execution_count": 20,
     "metadata": {},
     "output_type": "execute_result"
    }
   ]
  },
  {
   "cell_type": "code",
   "metadata": {
    "id": "NEdM-7HiSvpN",
    "colab": {
     "base_uri": "https://localhost:8080/"
    },
    "executionInfo": {
     "status": "ok",
     "timestamp": 1700028879706,
     "user_tz": 360,
     "elapsed": 35,
     "user": {
      "displayName": "David Demeter",
      "userId": "06375543898056971431"
     }
    },
    "outputId": "b2479d08-e614-41cf-9acc-aba0686e9776",
    "ExecuteTime": {
     "end_time": "2023-11-17T20:37:08.242651Z",
     "start_time": "2023-11-17T20:37:08.236071Z"
    }
   },
   "source": [
    "x * y"
   ],
   "execution_count": 21,
   "outputs": [
    {
     "data": {
      "text/plain": "tensor([[  0.0000,  16.5278,  46.4639,  20.4363,  41.1450],\n        [ 24.3126, 128.1217,  41.8602,  90.5941, 188.4938],\n        [209.3623, 158.6629,  50.4187,  62.9232,  10.5043],\n        [191.4322,  62.8148,  83.3739,  88.9079, 293.1636],\n        [470.3824, 416.2701, 307.7738, 386.3512, 384.7724]])"
     },
     "execution_count": 21,
     "metadata": {},
     "output_type": "execute_result"
    }
   ]
  },
  {
   "cell_type": "code",
   "source": [
    "a = torch.rand(3,2)\n",
    "b = torch.rand(2,1)\n",
    "c = torch.matmul(a,b)\n",
    "print('a:',a)\n",
    "print('b:',b)\n",
    "print('c:',c)"
   ],
   "metadata": {
    "colab": {
     "base_uri": "https://localhost:8080/"
    },
    "id": "UCqxa4JjYyUc",
    "executionInfo": {
     "status": "ok",
     "timestamp": 1700028879706,
     "user_tz": 360,
     "elapsed": 28,
     "user": {
      "displayName": "David Demeter",
      "userId": "06375543898056971431"
     }
    },
    "outputId": "5625a222-c1cf-4b85-eb72-f6f776e6a48b",
    "ExecuteTime": {
     "end_time": "2023-11-17T20:37:10.071582Z",
     "start_time": "2023-11-17T20:37:10.064149Z"
    }
   },
   "execution_count": 22,
   "outputs": [
    {
     "name": "stdout",
     "output_type": "stream",
     "text": [
      "a: tensor([[0.6901, 0.5877],\n",
      "        [0.6523, 0.6934],\n",
      "        [0.0098, 0.0881]])\n",
      "b: tensor([[0.9764],\n",
      "        [0.2184]])\n",
      "c: tensor([[0.8022],\n",
      "        [0.7884],\n",
      "        [0.0288]])\n"
     ]
    }
   ]
  },
  {
   "cell_type": "code",
   "metadata": {
    "id": "PEhKahIvS0id",
    "colab": {
     "base_uri": "https://localhost:8080/"
    },
    "executionInfo": {
     "status": "ok",
     "timestamp": 1700028879706,
     "user_tz": 360,
     "elapsed": 21,
     "user": {
      "displayName": "David Demeter",
      "userId": "06375543898056971431"
     }
    },
    "outputId": "0ca4209a-cee3-411e-9a73-c056d74d4e98",
    "ExecuteTime": {
     "end_time": "2023-11-17T20:37:54.825030Z",
     "start_time": "2023-11-17T20:37:54.816282Z"
    }
   },
   "source": [
    "x.T"
   ],
   "execution_count": 23,
   "outputs": [
    {
     "data": {
      "text/plain": "tensor([[ 0,  5, 10, 15, 20],\n        [ 1,  6, 11, 16, 21],\n        [ 2,  7, 12, 17, 22],\n        [ 3,  8, 13, 18, 23],\n        [ 4,  9, 14, 19, 24]])"
     },
     "execution_count": 23,
     "metadata": {},
     "output_type": "execute_result"
    }
   ]
  },
  {
   "cell_type": "markdown",
   "metadata": {
    "id": "00JZNEvdTrLz"
   },
   "source": [
    "## Lets work with some data"
   ]
  },
  {
   "cell_type": "code",
   "metadata": {
    "id": "OuSMXYC2OLhU",
    "colab": {
     "base_uri": "https://localhost:8080/"
    },
    "executionInfo": {
     "status": "ok",
     "timestamp": 1700028879707,
     "user_tz": 360,
     "elapsed": 18,
     "user": {
      "displayName": "David Demeter",
      "userId": "06375543898056971431"
     }
    },
    "outputId": "dd8c4b42-e55b-4457-bbfd-9f1029aaaba0",
    "ExecuteTime": {
     "end_time": "2023-11-17T21:16:49.944619Z",
     "start_time": "2023-11-17T21:16:49.918385Z"
    }
   },
   "source": [
    "traindf = pd.read_csv('california_housing_train.csv')\n",
    "testdf = pd.read_csv('california_housing_test.csv')\n",
    "\n",
    "print(traindf[:5])"
   ],
   "execution_count": 28,
   "outputs": [
    {
     "name": "stdout",
     "output_type": "stream",
     "text": [
      "   longitude  latitude  housing_median_age  total_rooms  total_bedrooms  \\\n",
      "0    -114.31     34.19                15.0       5612.0          1283.0   \n",
      "1    -114.47     34.40                19.0       7650.0          1901.0   \n",
      "2    -114.56     33.69                17.0        720.0           174.0   \n",
      "3    -114.57     33.64                14.0       1501.0           337.0   \n",
      "4    -114.57     33.57                20.0       1454.0           326.0   \n",
      "\n",
      "   population  households  median_income  median_house_value  \n",
      "0      1015.0       472.0         1.4936             66900.0  \n",
      "1      1129.0       463.0         1.8200             80100.0  \n",
      "2       333.0       117.0         1.6509             85700.0  \n",
      "3       515.0       226.0         3.1917             73400.0  \n",
      "4       624.0       262.0         1.9250             65500.0  \n"
     ]
    }
   ]
  },
  {
   "cell_type": "code",
   "metadata": {
    "id": "_wdZp9vo8YJl",
    "colab": {
     "base_uri": "https://localhost:8080/"
    },
    "executionInfo": {
     "status": "ok",
     "timestamp": 1700028879707,
     "user_tz": 360,
     "elapsed": 14,
     "user": {
      "displayName": "David Demeter",
      "userId": "06375543898056971431"
     }
    },
    "outputId": "ac880495-3273-4ab1-b14c-e4475bd43f36",
    "ExecuteTime": {
     "end_time": "2023-11-17T21:20:58.944954Z",
     "start_time": "2023-11-17T21:20:58.940578Z"
    }
   },
   "source": [
    "traindf.iloc[0]"
   ],
   "execution_count": 29,
   "outputs": [
    {
     "data": {
      "text/plain": "longitude              -114.3100\nlatitude                 34.1900\nhousing_median_age       15.0000\ntotal_rooms            5612.0000\ntotal_bedrooms         1283.0000\npopulation             1015.0000\nhouseholds              472.0000\nmedian_income             1.4936\nmedian_house_value    66900.0000\nName: 0, dtype: float64"
     },
     "execution_count": 29,
     "metadata": {},
     "output_type": "execute_result"
    }
   ]
  },
  {
   "cell_type": "code",
   "metadata": {
    "id": "LergLj3cA7km",
    "ExecuteTime": {
     "end_time": "2023-11-17T21:29:20.637002Z",
     "start_time": "2023-11-17T21:29:20.633167Z"
    }
   },
   "source": [
    "sc = MinMaxScaler()\n",
    "train_numpy  = sc.fit_transform(traindf.values)\n",
    "test_numpy = sc.transform(testdf.values)"
   ],
   "execution_count": 30,
   "outputs": []
  },
  {
   "cell_type": "code",
   "metadata": {
    "id": "uuuVhYKnBfvM",
    "colab": {
     "base_uri": "https://localhost:8080/"
    },
    "executionInfo": {
     "status": "ok",
     "timestamp": 1700028879707,
     "user_tz": 360,
     "elapsed": 10,
     "user": {
      "displayName": "David Demeter",
      "userId": "06375543898056971431"
     }
    },
    "outputId": "9ed6ddd6-c7bf-4e8a-82bd-6c91708153b9"
   },
   "source": [
    "train_numpy[:5]"
   ],
   "execution_count": null,
   "outputs": [
    {
     "output_type": "execute_result",
     "data": {
      "text/plain": [
       "array([[1.        , 0.17534538, 0.2745098 , 0.14788454, 0.19894475,\n",
       "        0.02836402, 0.07745437, 0.06853009, 0.10701193],\n",
       "       [0.98406375, 0.19766206, 0.35294118, 0.20160801, 0.29484792,\n",
       "        0.03155918, 0.07597435, 0.09104012, 0.13422831],\n",
       "       [0.9750996 , 0.12221041, 0.31372549, 0.01892711, 0.02684668,\n",
       "        0.00924914, 0.01907581, 0.07937822, 0.14577466],\n",
       "       [0.97410359, 0.11689692, 0.25490196, 0.03951496, 0.05214153,\n",
       "        0.01435018, 0.03700049, 0.18563882, 0.12041394],\n",
       "       [0.97410359, 0.10945802, 0.37254902, 0.038276  , 0.05043451,\n",
       "        0.0174052 , 0.04292057, 0.0982814 , 0.10412534]])"
      ]
     },
     "metadata": {},
     "execution_count": 26
    }
   ]
  },
  {
   "cell_type": "code",
   "metadata": {
    "id": "WXyzi5yNRv9n",
    "colab": {
     "base_uri": "https://localhost:8080/"
    },
    "executionInfo": {
     "status": "ok",
     "timestamp": 1700028879976,
     "user_tz": 360,
     "elapsed": 277,
     "user": {
      "displayName": "David Demeter",
      "userId": "06375543898056971431"
     }
    },
    "outputId": "ec34ecaf-14ed-4806-fbdc-f078e370370d",
    "ExecuteTime": {
     "end_time": "2023-11-17T21:30:57.807563Z",
     "start_time": "2023-11-17T21:30:57.800265Z"
    }
   },
   "source": [
    "train_tensor = torch.tensor(train_numpy)\n",
    "print(train_tensor[:5])"
   ],
   "execution_count": 31,
   "outputs": [
    {
     "name": "stdout",
     "output_type": "stream",
     "text": [
      "tensor([[1.0000, 0.1753, 0.2745, 0.1479, 0.1989, 0.0284, 0.0775, 0.0685, 0.1070],\n",
      "        [0.9841, 0.1977, 0.3529, 0.2016, 0.2948, 0.0316, 0.0760, 0.0910, 0.1342],\n",
      "        [0.9751, 0.1222, 0.3137, 0.0189, 0.0268, 0.0092, 0.0191, 0.0794, 0.1458],\n",
      "        [0.9741, 0.1169, 0.2549, 0.0395, 0.0521, 0.0144, 0.0370, 0.1856, 0.1204],\n",
      "        [0.9741, 0.1095, 0.3725, 0.0383, 0.0504, 0.0174, 0.0429, 0.0983, 0.1041]],\n",
      "       dtype=torch.float64)\n"
     ]
    }
   ]
  },
  {
   "cell_type": "code",
   "metadata": {
    "id": "umsvoptpOS5a",
    "ExecuteTime": {
     "end_time": "2023-11-17T21:31:07.187696Z",
     "start_time": "2023-11-17T21:31:07.182043Z"
    }
   },
   "source": [
    "class CustomHousingDataset(torch.utils.data.Dataset):\n",
    "  def __init__(self, file, scaler):\n",
    "    self.df = pd.read_csv(file)\n",
    "    self.sc = scaler\n",
    "\n",
    "  def __len__(self):\n",
    "    return self.df.shape[0]\n",
    "\n",
    "  def __getitem__(self, idx):\n",
    "    raw = self.df.iloc[idx].values\n",
    "    if type(idx) == int:\n",
    "      raw = raw.reshape(1, -1)\n",
    "    raw = self.sc.transform(raw)\n",
    "    data = torch.tensor(raw[:, :-1], dtype=torch.float32)\n",
    "    label = torch.tensor(raw[:, -1], dtype=torch.float32)\n",
    "    return data, label"
   ],
   "execution_count": 32,
   "outputs": []
  },
  {
   "cell_type": "code",
   "metadata": {
    "id": "Blrs0xRwP6gP",
    "ExecuteTime": {
     "end_time": "2023-11-17T21:34:49.740771Z",
     "start_time": "2023-11-17T21:34:49.718468Z"
    }
   },
   "source": [
    "train_data = CustomHousingDataset('california_housing_train.csv', sc)\n",
    "test_data = CustomHousingDataset('california_housing_test.csv', sc)\n",
    "\n",
    "train_loader = DataLoader(train_data, batch_size=64, shuffle=True)\n",
    "test_loader = DataLoader(test_data, batch_size=64, shuffle=True)"
   ],
   "execution_count": 33,
   "outputs": []
  },
  {
   "cell_type": "code",
   "metadata": {
    "colab": {
     "base_uri": "https://localhost:8080/"
    },
    "id": "Mi516cGHB71J",
    "outputId": "cd55c358-3ecc-4ac6-871b-72e03a01c26e",
    "executionInfo": {
     "status": "ok",
     "timestamp": 1700028879977,
     "user_tz": 360,
     "elapsed": 15,
     "user": {
      "displayName": "David Demeter",
      "userId": "06375543898056971431"
     }
    },
    "ExecuteTime": {
     "end_time": "2023-11-17T21:35:48.166846Z",
     "start_time": "2023-11-17T21:35:48.160609Z"
    }
   },
   "source": [
    "train_data[100:110]"
   ],
   "execution_count": 34,
   "outputs": [
    {
     "data": {
      "text/plain": "(tensor([[0.8725, 0.0266, 0.1373, 0.0575, 0.0475, 0.0279, 0.0470, 0.4056],\n         [0.8725, 0.0159, 0.5686, 0.0246, 0.0273, 0.0181, 0.0242, 0.1432],\n         [0.8715, 0.0701, 0.7059, 0.0186, 0.0289, 0.0108, 0.0232, 0.1346],\n         [0.8715, 0.0351, 0.0392, 0.0429, 0.0490, 0.0281, 0.0511, 0.2503],\n         [0.8695, 0.0531, 0.3725, 0.0295, 0.0377, 0.0214, 0.0377, 0.1239],\n         [0.8695, 0.0531, 0.3137, 0.0265, 0.0357, 0.0208, 0.0355, 0.1066],\n         [0.8675, 0.0276, 0.4314, 0.0323, 0.0363, 0.0159, 0.0385, 0.1839],\n         [0.8625, 0.0266, 0.3333, 0.0412, 0.0526, 0.0325, 0.0562, 0.1158],\n         [0.8596, 0.0223, 0.2941, 0.0091, 0.0152, 0.0034, 0.0087, 0.1099],\n         [0.8586, 0.0871, 0.3529, 0.0197, 0.0368, 0.0133, 0.0276, 0.0878]]),\n tensor([0.2988, 0.1637, 0.1186, 0.1406, 0.0969, 0.0953, 0.2268, 0.0829, 0.1495,\n         0.0722]))"
     },
     "execution_count": 34,
     "metadata": {},
     "output_type": "execute_result"
    }
   ]
  },
  {
   "cell_type": "markdown",
   "metadata": {
    "id": "KT0Cb12ndYow"
   },
   "source": [
    "## LETS MODEL\n",
    "We'll start by defining some basic models, loss functions, and optimizers. These are the fundamental building blocks for any Deep Learning platform.\n",
    "\n",
    "Some common loss functions:\n",
    "  - CrossEntropy\n",
    "  - BCE (binary cross entropy)\n",
    "  - L1\n",
    "  - MSE (mean sqaure error aka L2)\n",
    "\n",
    "And for optimizers we use some form of gradient descent:\n",
    "- SGD (stochastic gradient decent)\n",
    "- RMSprop\n",
    "- Adagrad\n",
    "- Adam\n",
    "\n",
    "Once we get here, would could also do things like schedule the learning rate, etc."
   ]
  },
  {
   "cell_type": "code",
   "metadata": {
    "id": "WP3bROntQYnZ"
   },
   "source": [
    "class FeedForward(nn.Module):\n",
    "  def __init__(self):\n",
    "    super(FeedForward, self).__init__()\n",
    "    self.linear1 = nn.Linear(8, 32)\n",
    "    self.relu1 = nn.LeakyReLU()\n",
    "    self.linear2 = nn.Linear(32, 16)\n",
    "    self.relu2 = nn.LeakyReLU()\n",
    "    self.linear_out = nn.Linear(16, 1)\n",
    "\n",
    "  def forward(self, x):\n",
    "    x = self.linear1(x)\n",
    "    x = self.relu1(x)\n",
    "    x = self.linear2(x)\n",
    "    x = self.relu2(x)\n",
    "    x = self.linear_out(x)\n",
    "    return x\n"
   ],
   "execution_count": null,
   "outputs": []
  },
  {
   "cell_type": "code",
   "metadata": {
    "colab": {
     "base_uri": "https://localhost:8080/"
    },
    "id": "fLc_7fj0YTgB",
    "outputId": "042c8620-b325-44ce-cbbb-14c0ac8206a2",
    "executionInfo": {
     "status": "ok",
     "timestamp": 1700028879977,
     "user_tz": 360,
     "elapsed": 11,
     "user": {
      "displayName": "David Demeter",
      "userId": "06375543898056971431"
     }
    }
   },
   "source": [
    "ff = FeedForward()\n",
    "print(ff)"
   ],
   "execution_count": null,
   "outputs": [
    {
     "output_type": "stream",
     "name": "stdout",
     "text": [
      "FeedForward(\n",
      "  (linear1): Linear(in_features=8, out_features=32, bias=True)\n",
      "  (relu1): LeakyReLU(negative_slope=0.01)\n",
      "  (linear2): Linear(in_features=32, out_features=16, bias=True)\n",
      "  (relu2): LeakyReLU(negative_slope=0.01)\n",
      "  (linear_out): Linear(in_features=16, out_features=1, bias=True)\n",
      ")\n"
     ]
    }
   ]
  },
  {
   "cell_type": "code",
   "metadata": {
    "id": "tiDqxsVEYh0Y",
    "colab": {
     "base_uri": "https://localhost:8080/"
    },
    "executionInfo": {
     "status": "ok",
     "timestamp": 1700028879977,
     "user_tz": 360,
     "elapsed": 9,
     "user": {
      "displayName": "David Demeter",
      "userId": "06375543898056971431"
     }
    },
    "outputId": "b58a8117-0551-4fb1-956d-f008bf934957"
   },
   "source": [
    "loss_func = nn.MSELoss()\n",
    "optimizer = torch.optim.Adam(ff.parameters(), lr=1e-2)\n",
    "ff.eval()\n",
    "a, b = train_data[0]\n",
    "with torch.no_grad():\n",
    "  pred = ff(a)\n",
    "print('a:',a)\n",
    "print('b:',b)\n",
    "print('prediction:', pred)\n",
    "print('target:', b)\n",
    "print('error:', loss_func(pred, b.unsqueeze(0)))"
   ],
   "execution_count": null,
   "outputs": [
    {
     "output_type": "stream",
     "name": "stdout",
     "text": [
      "a: tensor([[1.0000, 0.1753, 0.2745, 0.1479, 0.1989, 0.0284, 0.0775, 0.0685]])\n",
      "b: tensor([0.1070])\n",
      "prediction: tensor([[0.3850]])\n",
      "target: tensor([0.1070])\n",
      "error: tensor(0.0773)\n"
     ]
    }
   ]
  },
  {
   "cell_type": "markdown",
   "metadata": {
    "id": "kToju96kfuJp"
   },
   "source": [
    "### This is what we want to do, over the entire training data."
   ]
  },
  {
   "cell_type": "code",
   "metadata": {
    "id": "bn5wlVyrdIkP"
   },
   "source": [
    "def train(dataloader, model, loss_func, optimizer, lamb):\n",
    "  model.train()\n",
    "  train_loss = []\n",
    "\n",
    "  now = datetime.datetime.now()\n",
    "  for batch, (X, y) in enumerate(dataloader):\n",
    "    # ignore the first time we see this\n",
    "    # second time why is gpu better than cpu for this?\n",
    "    X, y = X.to(device), y.to(device)\n",
    "\n",
    "    # make some predictions and get the error\n",
    "    pred = model(X)\n",
    "\n",
    "    R1 = ff.linear1.weight\n",
    "    R1 = torch.mul(R1,R1)\n",
    "    R1 = torch.sum(R1)\n",
    "    R1 = torch.sqrt(R1)\n",
    "\n",
    "    R2 = ff.linear2.weight\n",
    "    R2 = torch.mul(R2,R2)\n",
    "    R2 = torch.sum(R2)\n",
    "    R2 = torch.sqrt(R2)\n",
    "\n",
    "    R3 = ff.linear_out.weight\n",
    "    R3 = torch.mul(R3,R3)\n",
    "    R3 = torch.sum(R3)\n",
    "    R3 = torch.sqrt(R3)\n",
    "\n",
    "    R = R1 + R2 + R3\n",
    "\n",
    "    loss = loss_func(pred, y.unsqueeze(1)) + lamb * R\n",
    "\n",
    "    # where the magic happens\n",
    "    # backpropogation\n",
    "    optimizer.zero_grad()\n",
    "    loss.backward()\n",
    "    optimizer.step()\n",
    "\n",
    "    if batch % 10 == 0:\n",
    "      loss, current = loss.item(), batch * len(X)\n",
    "      iters = 10 * len(X)\n",
    "      then = datetime.datetime.now()\n",
    "      iters /= (then - now).total_seconds()\n",
    "      print(f\"loss: {loss:>6f} |w| {R1:>6f} [{current:>5d}/{17000}] ({iters:.1f} its/sec)\")\n",
    "      now = then\n",
    "      train_loss.append(loss)\n",
    "  return train_loss"
   ],
   "execution_count": null,
   "outputs": []
  },
  {
   "cell_type": "code",
   "metadata": {
    "id": "bDgB95AGjsGs"
   },
   "source": [
    "def test(dataloader, model, loss_func):\n",
    "  size = len(dataloader)\n",
    "  num_batches = 0\n",
    "  model.eval()\n",
    "  test_loss = 0\n",
    "\n",
    "  with torch.no_grad():\n",
    "    for X, y in dataloader:\n",
    "      X, y = X.to(device), y.to(device)\n",
    "      pred = model(X)\n",
    "      test_loss += loss_func(pred, y.unsqueeze(1)).item()\n",
    "      num_batches = num_batches + 1\n",
    "  test_loss /= num_batches\n",
    "  print(f\"Avg Loss: {test_loss:>8f}\\n\")\n",
    "  return test_loss"
   ],
   "execution_count": null,
   "outputs": []
  },
  {
   "cell_type": "code",
   "metadata": {
    "id": "XwUks9nVdIX8",
    "colab": {
     "base_uri": "https://localhost:8080/"
    },
    "executionInfo": {
     "status": "ok",
     "timestamp": 1700029065765,
     "user_tz": 360,
     "elapsed": 58007,
     "user": {
      "displayName": "David Demeter",
      "userId": "06375543898056971431"
     }
    },
    "outputId": "65421ee4-22c8-48f9-d45f-68d7348498cb"
   },
   "source": [
    "ff = FeedForward().to(device)\n",
    "loss_func = nn.MSELoss()\n",
    "optimizer = torch.optim.Adam(ff.parameters(), lr=1e-3)\n",
    "epochs = 10\n",
    "train_loss = []\n",
    "test_loss = []\n",
    "for t in range(epochs):\n",
    "  print(f\"Epoch {t+1}\\n------------------------------- \\n\")\n",
    "  losses = train(train_loader, ff, loss_func, optimizer, 0.01)\n",
    "  train_loss.append(losses)\n",
    "  test_loss.append(test(test_loader, ff, loss_func))\n",
    "\n",
    "# Could add a condition that interrupts training when the loss doesn't change much\n",
    "print('Done!')"
   ],
   "execution_count": null,
   "outputs": [
    {
     "output_type": "stream",
     "name": "stdout",
     "text": [
      "Epoch 1\n",
      "------------------------------- \n",
      "\n",
      "loss: 0.378116 |w| 3.384785 [    0/17000] (29157.2 its/sec)\n",
      "loss: 0.291888 |w| 3.328906 [  640/17000] (4579.9 its/sec)\n",
      "loss: 0.164051 |w| 3.282297 [ 1280/17000] (4101.8 its/sec)\n",
      "loss: 0.129288 |w| 3.241785 [ 1920/17000] (4421.4 its/sec)\n",
      "loss: 0.120775 |w| 3.199294 [ 2560/17000] (4074.0 its/sec)\n",
      "loss: 0.109084 |w| 3.143043 [ 3200/17000] (4336.7 its/sec)\n",
      "loss: 0.117360 |w| 3.074639 [ 3840/17000] (4000.1 its/sec)\n",
      "loss: 0.105638 |w| 3.002431 [ 4480/17000] (4419.8 its/sec)\n",
      "loss: 0.103958 |w| 2.937588 [ 5120/17000] (3911.9 its/sec)\n",
      "loss: 0.103492 |w| 2.878727 [ 5760/17000] (4265.2 its/sec)\n",
      "loss: 0.101799 |w| 2.821995 [ 6400/17000] (4144.0 its/sec)\n",
      "loss: 0.092514 |w| 2.768552 [ 7040/17000] (4400.6 its/sec)\n",
      "loss: 0.089486 |w| 2.713715 [ 7680/17000] (3960.9 its/sec)\n",
      "loss: 0.097810 |w| 2.661352 [ 8320/17000] (4054.0 its/sec)\n",
      "loss: 0.103816 |w| 2.612369 [ 8960/17000] (4391.7 its/sec)\n",
      "loss: 0.103659 |w| 2.564929 [ 9600/17000] (4211.8 its/sec)\n",
      "loss: 0.094599 |w| 2.521312 [10240/17000] (4011.9 its/sec)\n",
      "loss: 0.090336 |w| 2.478274 [10880/17000] (4363.5 its/sec)\n",
      "loss: 0.094529 |w| 2.439147 [11520/17000] (4160.9 its/sec)\n",
      "loss: 0.083081 |w| 2.401834 [12160/17000] (4272.4 its/sec)\n",
      "loss: 0.094265 |w| 2.365424 [12800/17000] (4197.7 its/sec)\n",
      "loss: 0.078587 |w| 2.330097 [13440/17000] (4458.6 its/sec)\n",
      "loss: 0.082857 |w| 2.299367 [14080/17000] (4082.3 its/sec)\n",
      "loss: 0.074686 |w| 2.270217 [14720/17000] (4308.5 its/sec)\n",
      "loss: 0.073510 |w| 2.241391 [15360/17000] (4354.7 its/sec)\n",
      "loss: 0.069328 |w| 2.215338 [16000/17000] (4410.1 its/sec)\n",
      "loss: 0.079257 |w| 2.189736 [16640/17000] (4238.8 its/sec)\n",
      "Avg Loss: 0.030223\n",
      "\n",
      "Epoch 2\n",
      "------------------------------- \n",
      "\n",
      "loss: 0.070023 |w| 2.174476 [    0/17000] (28462.2 its/sec)\n",
      "loss: 0.066406 |w| 2.149400 [  640/17000] (4213.7 its/sec)\n",
      "loss: 0.076161 |w| 2.125934 [ 1280/17000] (4258.0 its/sec)\n",
      "loss: 0.070447 |w| 2.109628 [ 1920/17000] (4559.2 its/sec)\n",
      "loss: 0.078816 |w| 2.090267 [ 2560/17000] (4409.1 its/sec)\n",
      "loss: 0.066488 |w| 2.069996 [ 3200/17000] (4285.7 its/sec)\n",
      "loss: 0.068488 |w| 2.050663 [ 3840/17000] (4365.2 its/sec)\n",
      "loss: 0.061725 |w| 2.029372 [ 4480/17000] (4200.8 its/sec)\n",
      "loss: 0.073860 |w| 2.010104 [ 5120/17000] (4070.4 its/sec)\n",
      "loss: 0.074269 |w| 1.991662 [ 5760/17000] (4264.8 its/sec)\n",
      "loss: 0.079517 |w| 1.975895 [ 6400/17000] (4496.3 its/sec)\n",
      "loss: 0.074513 |w| 1.960215 [ 7040/17000] (4450.7 its/sec)\n",
      "loss: 0.067031 |w| 1.937804 [ 7680/17000] (3960.2 its/sec)\n",
      "loss: 0.065261 |w| 1.926774 [ 8320/17000] (4126.1 its/sec)\n",
      "loss: 0.071163 |w| 1.902541 [ 8960/17000] (4222.7 its/sec)\n",
      "loss: 0.063745 |w| 1.889470 [ 9600/17000] (4139.7 its/sec)\n",
      "loss: 0.068960 |w| 1.872294 [10240/17000] (3663.1 its/sec)\n",
      "loss: 0.063979 |w| 1.858185 [10880/17000] (4142.3 its/sec)\n",
      "loss: 0.063898 |w| 1.843156 [11520/17000] (3643.1 its/sec)\n",
      "loss: 0.070473 |w| 1.829355 [12160/17000] (4093.0 its/sec)\n",
      "loss: 0.063635 |w| 1.811482 [12800/17000] (3814.5 its/sec)\n",
      "loss: 0.061148 |w| 1.801546 [13440/17000] (4133.6 its/sec)\n",
      "loss: 0.070848 |w| 1.783064 [14080/17000] (4145.9 its/sec)\n",
      "loss: 0.060097 |w| 1.767696 [14720/17000] (4300.4 its/sec)\n",
      "loss: 0.071577 |w| 1.750935 [15360/17000] (3712.4 its/sec)\n",
      "loss: 0.078638 |w| 1.737900 [16000/17000] (3895.2 its/sec)\n",
      "loss: 0.059434 |w| 1.724152 [16640/17000] (3915.5 its/sec)\n",
      "Avg Loss: 0.024877\n",
      "\n",
      "Epoch 3\n",
      "------------------------------- \n",
      "\n",
      "loss: 0.057003 |w| 1.716369 [    0/17000] (30065.3 its/sec)\n",
      "loss: 0.055001 |w| 1.705964 [  640/17000] (2967.2 its/sec)\n",
      "loss: 0.055570 |w| 1.692661 [ 1280/17000] (3052.4 its/sec)\n",
      "loss: 0.060641 |w| 1.680470 [ 1920/17000] (2924.4 its/sec)\n",
      "loss: 0.062919 |w| 1.668247 [ 2560/17000] (2777.7 its/sec)\n",
      "loss: 0.053977 |w| 1.655836 [ 3200/17000] (3023.1 its/sec)\n",
      "loss: 0.057920 |w| 1.645587 [ 3840/17000] (2884.2 its/sec)\n",
      "loss: 0.054828 |w| 1.634575 [ 4480/17000] (2777.8 its/sec)\n",
      "loss: 0.075120 |w| 1.626487 [ 5120/17000] (2841.2 its/sec)\n",
      "loss: 0.052785 |w| 1.614884 [ 5760/17000] (2732.0 its/sec)\n",
      "loss: 0.063958 |w| 1.601729 [ 6400/17000] (2860.0 its/sec)\n",
      "loss: 0.091185 |w| 1.598164 [ 7040/17000] (2851.2 its/sec)\n",
      "loss: 0.057698 |w| 1.582854 [ 7680/17000] (3019.9 its/sec)\n",
      "loss: 0.053452 |w| 1.573575 [ 8320/17000] (2713.3 its/sec)\n",
      "loss: 0.067708 |w| 1.562912 [ 8960/17000] (2448.9 its/sec)\n",
      "loss: 0.066534 |w| 1.555861 [ 9600/17000] (2593.0 its/sec)\n",
      "loss: 0.055312 |w| 1.547087 [10240/17000] (2705.2 its/sec)\n",
      "loss: 0.060941 |w| 1.536035 [10880/17000] (4091.7 its/sec)\n",
      "loss: 0.061108 |w| 1.525870 [11520/17000] (3906.2 its/sec)\n",
      "loss: 0.054890 |w| 1.522349 [12160/17000] (3970.6 its/sec)\n",
      "loss: 0.062827 |w| 1.514612 [12800/17000] (4112.9 its/sec)\n",
      "loss: 0.073754 |w| 1.507297 [13440/17000] (4126.6 its/sec)\n",
      "loss: 0.053919 |w| 1.499522 [14080/17000] (4251.7 its/sec)\n",
      "loss: 0.066072 |w| 1.489788 [14720/17000] (3931.5 its/sec)\n",
      "loss: 0.062878 |w| 1.480063 [15360/17000] (4204.6 its/sec)\n",
      "loss: 0.069110 |w| 1.471431 [16000/17000] (4065.9 its/sec)\n",
      "loss: 0.075461 |w| 1.459515 [16640/17000] (3984.6 its/sec)\n",
      "Avg Loss: 0.024562\n",
      "\n",
      "Epoch 4\n",
      "------------------------------- \n",
      "\n",
      "loss: 0.066336 |w| 1.458448 [    0/17000] (37080.0 its/sec)\n",
      "loss: 0.057341 |w| 1.449654 [  640/17000] (3897.4 its/sec)\n",
      "loss: 0.058504 |w| 1.449251 [ 1280/17000] (3947.8 its/sec)\n",
      "loss: 0.058285 |w| 1.441868 [ 1920/17000] (4149.5 its/sec)\n",
      "loss: 0.057716 |w| 1.438696 [ 2560/17000] (4019.9 its/sec)\n",
      "loss: 0.072491 |w| 1.435498 [ 3200/17000] (4138.9 its/sec)\n",
      "loss: 0.056684 |w| 1.430958 [ 3840/17000] (3749.6 its/sec)\n",
      "loss: 0.074032 |w| 1.429564 [ 4480/17000] (4091.4 its/sec)\n",
      "loss: 0.051626 |w| 1.420465 [ 5120/17000] (3756.5 its/sec)\n",
      "loss: 0.049434 |w| 1.414377 [ 5760/17000] (4148.3 its/sec)\n",
      "loss: 0.076906 |w| 1.409747 [ 6400/17000] (4068.6 its/sec)\n",
      "loss: 0.056330 |w| 1.398821 [ 7040/17000] (4093.7 its/sec)\n",
      "loss: 0.070980 |w| 1.387291 [ 7680/17000] (3602.0 its/sec)\n",
      "loss: 0.056220 |w| 1.386714 [ 8320/17000] (4134.6 its/sec)\n",
      "loss: 0.055665 |w| 1.382841 [ 8960/17000] (3649.9 its/sec)\n",
      "loss: 0.055839 |w| 1.384438 [ 9600/17000] (3918.5 its/sec)\n",
      "loss: 0.063129 |w| 1.376510 [10240/17000] (4036.5 its/sec)\n",
      "loss: 0.057319 |w| 1.371062 [10880/17000] (4236.3 its/sec)\n",
      "loss: 0.054500 |w| 1.368204 [11520/17000] (3852.8 its/sec)\n",
      "loss: 0.048345 |w| 1.363874 [12160/17000] (4037.6 its/sec)\n",
      "loss: 0.047529 |w| 1.357371 [12800/17000] (3439.0 its/sec)\n",
      "loss: 0.060327 |w| 1.350533 [13440/17000] (1585.7 its/sec)\n",
      "loss: 0.054512 |w| 1.341804 [14080/17000] (1456.6 its/sec)\n",
      "loss: 0.064537 |w| 1.337876 [14720/17000] (2135.2 its/sec)\n",
      "loss: 0.063068 |w| 1.336147 [15360/17000] (2210.3 its/sec)\n",
      "loss: 0.063059 |w| 1.328369 [16000/17000] (1787.0 its/sec)\n",
      "loss: 0.065466 |w| 1.322200 [16640/17000] (2016.0 its/sec)\n",
      "Avg Loss: 0.024001\n",
      "\n",
      "Epoch 5\n",
      "------------------------------- \n",
      "\n",
      "loss: 0.058698 |w| 1.320670 [    0/17000] (9321.8 its/sec)\n",
      "loss: 0.054443 |w| 1.319643 [  640/17000] (1541.8 its/sec)\n",
      "loss: 0.070638 |w| 1.318594 [ 1280/17000] (1659.7 its/sec)\n",
      "loss: 0.052129 |w| 1.314088 [ 1920/17000] (967.6 its/sec)\n",
      "loss: 0.058911 |w| 1.311588 [ 2560/17000] (984.6 its/sec)\n",
      "loss: 0.053868 |w| 1.305641 [ 3200/17000] (981.5 its/sec)\n",
      "loss: 0.056641 |w| 1.299154 [ 3840/17000] (1425.6 its/sec)\n",
      "loss: 0.064672 |w| 1.296201 [ 4480/17000] (2805.0 its/sec)\n",
      "loss: 0.071396 |w| 1.291568 [ 5120/17000] (2888.6 its/sec)\n",
      "loss: 0.055723 |w| 1.289464 [ 5760/17000] (2694.2 its/sec)\n",
      "loss: 0.050317 |w| 1.291035 [ 6400/17000] (2992.5 its/sec)\n",
      "loss: 0.052768 |w| 1.291137 [ 7040/17000] (3301.2 its/sec)\n",
      "loss: 0.059098 |w| 1.293090 [ 7680/17000] (2694.9 its/sec)\n",
      "loss: 0.058453 |w| 1.292637 [ 8320/17000] (2789.7 its/sec)\n",
      "loss: 0.054274 |w| 1.293831 [ 8960/17000] (2739.6 its/sec)\n",
      "loss: 0.048610 |w| 1.288623 [ 9600/17000] (2712.7 its/sec)\n",
      "loss: 0.081190 |w| 1.285522 [10240/17000] (4029.4 its/sec)\n",
      "loss: 0.064692 |w| 1.279565 [10880/17000] (3906.2 its/sec)\n",
      "loss: 0.052676 |w| 1.277043 [11520/17000] (3932.4 its/sec)\n",
      "loss: 0.058961 |w| 1.275823 [12160/17000] (4049.4 its/sec)\n",
      "loss: 0.055093 |w| 1.270193 [12800/17000] (3566.6 its/sec)\n",
      "loss: 0.058591 |w| 1.268007 [13440/17000] (4009.1 its/sec)\n",
      "loss: 0.063065 |w| 1.270013 [14080/17000] (4179.8 its/sec)\n",
      "loss: 0.052000 |w| 1.265325 [14720/17000] (3924.4 its/sec)\n",
      "loss: 0.065319 |w| 1.261627 [15360/17000] (4003.8 its/sec)\n",
      "loss: 0.048708 |w| 1.256151 [16000/17000] (3799.4 its/sec)\n",
      "loss: 0.054743 |w| 1.255032 [16640/17000] (4048.6 its/sec)\n",
      "Avg Loss: 0.024116\n",
      "\n",
      "Epoch 6\n",
      "------------------------------- \n",
      "\n",
      "loss: 0.080430 |w| 1.252220 [    0/17000] (39440.4 its/sec)\n",
      "loss: 0.064191 |w| 1.252303 [  640/17000] (4001.0 its/sec)\n",
      "loss: 0.064599 |w| 1.250150 [ 1280/17000] (3812.7 its/sec)\n",
      "loss: 0.068695 |w| 1.249894 [ 1920/17000] (4020.1 its/sec)\n",
      "loss: 0.059132 |w| 1.248491 [ 2560/17000] (4093.9 its/sec)\n",
      "loss: 0.072202 |w| 1.246754 [ 3200/17000] (3884.9 its/sec)\n",
      "loss: 0.048528 |w| 1.245489 [ 3840/17000] (4045.7 its/sec)\n",
      "loss: 0.062481 |w| 1.242543 [ 4480/17000] (4295.4 its/sec)\n",
      "loss: 0.071001 |w| 1.237032 [ 5120/17000] (4112.5 its/sec)\n",
      "loss: 0.062106 |w| 1.236511 [ 5760/17000] (4288.1 its/sec)\n",
      "loss: 0.055253 |w| 1.235810 [ 6400/17000] (4215.1 its/sec)\n",
      "loss: 0.067058 |w| 1.240357 [ 7040/17000] (4189.1 its/sec)\n",
      "loss: 0.058859 |w| 1.240631 [ 7680/17000] (3810.6 its/sec)\n",
      "loss: 0.056789 |w| 1.239374 [ 8320/17000] (4361.5 its/sec)\n",
      "loss: 0.053950 |w| 1.241124 [ 8960/17000] (4106.4 its/sec)\n",
      "loss: 0.054888 |w| 1.236662 [ 9600/17000] (4121.9 its/sec)\n",
      "loss: 0.065221 |w| 1.235204 [10240/17000] (3964.9 its/sec)\n",
      "loss: 0.057403 |w| 1.227858 [10880/17000] (4235.9 its/sec)\n",
      "loss: 0.052096 |w| 1.225658 [11520/17000] (3867.8 its/sec)\n",
      "loss: 0.052754 |w| 1.226445 [12160/17000] (4204.7 its/sec)\n",
      "loss: 0.050848 |w| 1.226800 [12800/17000] (3981.9 its/sec)\n",
      "loss: 0.068402 |w| 1.221069 [13440/17000] (4188.6 its/sec)\n",
      "loss: 0.050711 |w| 1.216685 [14080/17000] (3939.6 its/sec)\n",
      "loss: 0.051923 |w| 1.211382 [14720/17000] (4173.0 its/sec)\n",
      "loss: 0.052442 |w| 1.209136 [15360/17000] (3940.1 its/sec)\n",
      "loss: 0.065868 |w| 1.205872 [16000/17000] (3812.7 its/sec)\n",
      "loss: 0.057792 |w| 1.206728 [16640/17000] (3528.6 its/sec)\n",
      "Avg Loss: 0.024401\n",
      "\n",
      "Epoch 7\n",
      "------------------------------- \n",
      "\n",
      "loss: 0.055530 |w| 1.205307 [    0/17000] (39227.7 its/sec)\n",
      "loss: 0.058404 |w| 1.205027 [  640/17000] (4034.7 its/sec)\n",
      "loss: 0.060775 |w| 1.205648 [ 1280/17000] (3872.4 its/sec)\n",
      "loss: 0.060146 |w| 1.210705 [ 1920/17000] (4017.3 its/sec)\n",
      "loss: 0.051670 |w| 1.213425 [ 2560/17000] (4140.3 its/sec)\n",
      "loss: 0.047621 |w| 1.215999 [ 3200/17000] (4210.0 its/sec)\n",
      "loss: 0.054130 |w| 1.215612 [ 3840/17000] (4196.7 its/sec)\n",
      "loss: 0.058783 |w| 1.209320 [ 4480/17000] (3864.7 its/sec)\n",
      "loss: 0.049495 |w| 1.203040 [ 5120/17000] (3963.2 its/sec)\n",
      "loss: 0.062684 |w| 1.201833 [ 5760/17000] (4078.3 its/sec)\n",
      "loss: 0.062286 |w| 1.203573 [ 6400/17000] (4163.2 its/sec)\n",
      "loss: 0.044992 |w| 1.202271 [ 7040/17000] (4179.2 its/sec)\n",
      "loss: 0.056141 |w| 1.200138 [ 7680/17000] (3836.4 its/sec)\n",
      "loss: 0.049490 |w| 1.196768 [ 8320/17000] (3647.3 its/sec)\n",
      "loss: 0.059648 |w| 1.195718 [ 8960/17000] (4010.7 its/sec)\n",
      "loss: 0.057306 |w| 1.196531 [ 9600/17000] (4280.6 its/sec)\n",
      "loss: 0.062392 |w| 1.197653 [10240/17000] (3965.5 its/sec)\n",
      "loss: 0.072996 |w| 1.193700 [10880/17000] (2924.4 its/sec)\n",
      "loss: 0.049469 |w| 1.192685 [11520/17000] (2824.7 its/sec)\n",
      "loss: 0.046774 |w| 1.187052 [12160/17000] (2555.7 its/sec)\n",
      "loss: 0.053998 |w| 1.185417 [12800/17000] (2819.4 its/sec)\n",
      "loss: 0.050568 |w| 1.184534 [13440/17000] (2911.9 its/sec)\n",
      "loss: 0.055909 |w| 1.182215 [14080/17000] (2861.5 its/sec)\n",
      "loss: 0.060325 |w| 1.187323 [14720/17000] (2597.2 its/sec)\n",
      "loss: 0.057079 |w| 1.190089 [15360/17000] (2835.3 its/sec)\n",
      "loss: 0.053852 |w| 1.193141 [16000/17000] (2999.7 its/sec)\n",
      "loss: 0.060061 |w| 1.195780 [16640/17000] (2920.9 its/sec)\n",
      "Avg Loss: 0.023579\n",
      "\n",
      "Epoch 8\n",
      "------------------------------- \n",
      "\n",
      "loss: 0.057305 |w| 1.192395 [    0/17000] (28085.0 its/sec)\n",
      "loss: 0.057274 |w| 1.187846 [  640/17000] (2556.3 its/sec)\n",
      "loss: 0.058171 |w| 1.184224 [ 1280/17000] (2542.0 its/sec)\n",
      "loss: 0.045754 |w| 1.183529 [ 1920/17000] (2668.8 its/sec)\n",
      "loss: 0.056178 |w| 1.184277 [ 2560/17000] (2605.9 its/sec)\n",
      "loss: 0.060114 |w| 1.183016 [ 3200/17000] (4051.1 its/sec)\n",
      "loss: 0.052274 |w| 1.182527 [ 3840/17000] (3946.4 its/sec)\n",
      "loss: 0.062162 |w| 1.179165 [ 4480/17000] (3474.1 its/sec)\n",
      "loss: 0.060017 |w| 1.178186 [ 5120/17000] (3759.3 its/sec)\n",
      "loss: 0.052195 |w| 1.178980 [ 5760/17000] (4132.5 its/sec)\n",
      "loss: 0.061476 |w| 1.180589 [ 6400/17000] (3904.2 its/sec)\n",
      "loss: 0.062797 |w| 1.179619 [ 7040/17000] (4067.1 its/sec)\n",
      "loss: 0.052035 |w| 1.178815 [ 7680/17000] (3779.8 its/sec)\n",
      "loss: 0.062415 |w| 1.173016 [ 8320/17000] (3746.2 its/sec)\n",
      "loss: 0.044992 |w| 1.168408 [ 8960/17000] (4112.3 its/sec)\n",
      "loss: 0.054413 |w| 1.173990 [ 9600/17000] (4452.0 its/sec)\n",
      "loss: 0.063338 |w| 1.173566 [10240/17000] (4366.3 its/sec)\n",
      "loss: 0.050307 |w| 1.178219 [10880/17000] (4400.1 its/sec)\n",
      "loss: 0.054426 |w| 1.175921 [11520/17000] (3992.2 its/sec)\n",
      "loss: 0.056718 |w| 1.176962 [12160/17000] (4447.0 its/sec)\n",
      "loss: 0.048937 |w| 1.176771 [12800/17000] (3868.6 its/sec)\n",
      "loss: 0.065952 |w| 1.179674 [13440/17000] (4380.7 its/sec)\n",
      "loss: 0.053937 |w| 1.178911 [14080/17000] (4246.6 its/sec)\n",
      "loss: 0.058091 |w| 1.177976 [14720/17000] (4208.0 its/sec)\n",
      "loss: 0.055553 |w| 1.175732 [15360/17000] (4024.4 its/sec)\n",
      "loss: 0.049770 |w| 1.174240 [16000/17000] (4298.1 its/sec)\n",
      "loss: 0.068145 |w| 1.174252 [16640/17000] (4070.4 its/sec)\n",
      "Avg Loss: 0.023483\n",
      "\n",
      "Epoch 9\n",
      "------------------------------- \n",
      "\n",
      "loss: 0.058286 |w| 1.174178 [    0/17000] (36819.7 its/sec)\n",
      "loss: 0.050001 |w| 1.175640 [  640/17000] (3850.4 its/sec)\n",
      "loss: 0.050673 |w| 1.179455 [ 1280/17000] (3901.1 its/sec)\n",
      "loss: 0.058151 |w| 1.182105 [ 1920/17000] (4083.0 its/sec)\n",
      "loss: 0.061091 |w| 1.182568 [ 2560/17000] (4322.1 its/sec)\n",
      "loss: 0.059530 |w| 1.176446 [ 3200/17000] (4400.9 its/sec)\n",
      "loss: 0.069836 |w| 1.174182 [ 3840/17000] (4251.7 its/sec)\n",
      "loss: 0.063776 |w| 1.174620 [ 4480/17000] (4159.2 its/sec)\n",
      "loss: 0.058190 |w| 1.173793 [ 5120/17000] (4108.0 its/sec)\n",
      "loss: 0.054554 |w| 1.177698 [ 5760/17000] (4022.3 its/sec)\n",
      "loss: 0.053657 |w| 1.175192 [ 6400/17000] (3930.3 its/sec)\n",
      "loss: 0.059529 |w| 1.176878 [ 7040/17000] (4049.6 its/sec)\n",
      "loss: 0.065598 |w| 1.174599 [ 7680/17000] (4192.0 its/sec)\n",
      "loss: 0.052431 |w| 1.172451 [ 8320/17000] (4161.8 its/sec)\n",
      "loss: 0.057002 |w| 1.169701 [ 8960/17000] (4063.8 its/sec)\n",
      "loss: 0.052731 |w| 1.166862 [ 9600/17000] (3626.8 its/sec)\n",
      "loss: 0.049959 |w| 1.168564 [10240/17000] (3602.5 its/sec)\n",
      "loss: 0.056511 |w| 1.166044 [10880/17000] (3988.3 its/sec)\n",
      "loss: 0.061270 |w| 1.163355 [11520/17000] (3855.0 its/sec)\n",
      "loss: 0.053374 |w| 1.161121 [12160/17000] (3967.4 its/sec)\n",
      "loss: 0.048016 |w| 1.160595 [12800/17000] (3565.6 its/sec)\n",
      "loss: 0.051098 |w| 1.158078 [13440/17000] (3793.2 its/sec)\n",
      "loss: 0.050049 |w| 1.156678 [14080/17000] (3735.6 its/sec)\n",
      "loss: 0.061760 |w| 1.156144 [14720/17000] (3983.7 its/sec)\n",
      "loss: 0.046224 |w| 1.156141 [15360/17000] (3855.7 its/sec)\n",
      "loss: 0.058143 |w| 1.154552 [16000/17000] (3770.8 its/sec)\n",
      "loss: 0.050726 |w| 1.154592 [16640/17000] (3905.9 its/sec)\n",
      "Avg Loss: 0.023654\n",
      "\n",
      "Epoch 10\n",
      "------------------------------- \n",
      "\n",
      "loss: 0.055343 |w| 1.154918 [    0/17000] (37671.4 its/sec)\n",
      "loss: 0.057202 |w| 1.157866 [  640/17000] (4102.2 its/sec)\n",
      "loss: 0.049747 |w| 1.159172 [ 1280/17000] (3875.4 its/sec)\n",
      "loss: 0.052147 |w| 1.157091 [ 1920/17000] (3735.3 its/sec)\n",
      "loss: 0.053860 |w| 1.159510 [ 2560/17000] (4115.0 its/sec)\n",
      "loss: 0.058658 |w| 1.161661 [ 3200/17000] (4389.8 its/sec)\n",
      "loss: 0.053896 |w| 1.164545 [ 3840/17000] (3025.1 its/sec)\n",
      "loss: 0.057093 |w| 1.162014 [ 4480/17000] (2911.1 its/sec)\n",
      "loss: 0.062175 |w| 1.160406 [ 5120/17000] (2710.5 its/sec)\n",
      "loss: 0.066573 |w| 1.159952 [ 5760/17000] (2742.8 its/sec)\n",
      "loss: 0.044016 |w| 1.158525 [ 6400/17000] (2884.4 its/sec)\n",
      "loss: 0.054006 |w| 1.158035 [ 7040/17000] (2721.5 its/sec)\n",
      "loss: 0.052414 |w| 1.159911 [ 7680/17000] (2834.2 its/sec)\n",
      "loss: 0.052493 |w| 1.161664 [ 8320/17000] (2720.6 its/sec)\n",
      "loss: 0.051468 |w| 1.158930 [ 8960/17000] (2878.4 its/sec)\n",
      "loss: 0.064645 |w| 1.159642 [ 9600/17000] (2612.2 its/sec)\n",
      "loss: 0.058690 |w| 1.157399 [10240/17000] (2959.9 its/sec)\n",
      "loss: 0.049631 |w| 1.156125 [10880/17000] (2770.3 its/sec)\n",
      "loss: 0.056572 |w| 1.153901 [11520/17000] (2891.9 its/sec)\n",
      "loss: 0.055219 |w| 1.151135 [12160/17000] (3039.9 its/sec)\n",
      "loss: 0.059626 |w| 1.149757 [12800/17000] (2924.0 its/sec)\n",
      "loss: 0.059615 |w| 1.144138 [13440/17000] (2770.6 its/sec)\n",
      "loss: 0.062718 |w| 1.140972 [14080/17000] (2611.2 its/sec)\n",
      "loss: 0.049504 |w| 1.140479 [14720/17000] (2788.7 its/sec)\n",
      "loss: 0.046420 |w| 1.141429 [15360/17000] (2579.0 its/sec)\n",
      "loss: 0.056996 |w| 1.139599 [16000/17000] (3901.0 its/sec)\n",
      "loss: 0.057626 |w| 1.138560 [16640/17000] (4056.8 its/sec)\n",
      "Avg Loss: 0.024638\n",
      "\n",
      "Done!\n"
     ]
    }
   ]
  },
  {
   "cell_type": "code",
   "metadata": {
    "colab": {
     "base_uri": "https://localhost:8080/",
     "height": 447
    },
    "id": "xh24R8-VdIN8",
    "outputId": "ad46d6f7-66f1-47b6-c201-f35009140858",
    "executionInfo": {
     "status": "ok",
     "timestamp": 1700029068910,
     "user_tz": 360,
     "elapsed": 1061,
     "user": {
      "displayName": "David Demeter",
      "userId": "06375543898056971431"
     }
    }
   },
   "source": [
    "plt.plot([i for i in range(len(train_loss))], torch.tensor(train_loss).mean(axis=1))"
   ],
   "execution_count": null,
   "outputs": [
    {
     "output_type": "execute_result",
     "data": {
      "text/plain": [
       "[<matplotlib.lines.Line2D at 0x7e343a8b2290>]"
      ]
     },
     "metadata": {},
     "execution_count": 41
    },
    {
     "output_type": "display_data",
     "data": {
      "text/plain": [
       "<Figure size 640x480 with 1 Axes>"
      ],
      "image/png": "[encoded data removed]"
     },
     "metadata": {}
    }
   ]
  },
  {
   "cell_type": "code",
   "metadata": {
    "colab": {
     "base_uri": "https://localhost:8080/",
     "height": 447
    },
    "id": "lbFlT5DCtWp9",
    "outputId": "33c91a3a-b659-471e-8828-85fd59e0af11",
    "executionInfo": {
     "status": "ok",
     "timestamp": 1700029074210,
     "user_tz": 360,
     "elapsed": 1045,
     "user": {
      "displayName": "David Demeter",
      "userId": "06375543898056971431"
     }
    }
   },
   "source": [
    "plt.plot([i for i in range(len(test_loss))], test_loss)"
   ],
   "execution_count": null,
   "outputs": [
    {
     "output_type": "execute_result",
     "data": {
      "text/plain": [
       "[<matplotlib.lines.Line2D at 0x7e3337307130>]"
      ]
     },
     "metadata": {},
     "execution_count": 42
    },
    {
     "output_type": "display_data",
     "data": {
      "text/plain": [
       "<Figure size 640x480 with 1 Axes>"
      ],
      "image/png": "[encoded data removed]"
     },
     "metadata": {}
    }
   ]
  },
  {
   "cell_type": "code",
   "metadata": {
    "colab": {
     "base_uri": "https://localhost:8080/"
    },
    "id": "Tck5Qq4dIUTB",
    "outputId": "1c374dbc-3a6b-4159-b271-34750e1f96e6",
    "executionInfo": {
     "status": "ok",
     "timestamp": 1700028941369,
     "user_tz": 360,
     "elapsed": 11,
     "user": {
      "displayName": "David Demeter",
      "userId": "06375543898056971431"
     }
    }
   },
   "source": [
    "ff.eval()\n",
    "with torch.no_grad():\n",
    "  x, y = train_data[4]\n",
    "  x = x.to(device)\n",
    "  y = y.to(device)\n",
    "\n",
    "  pred = ff(x)\n",
    "  print(pred)\n",
    "  print(y)\n",
    "print(loss_func(pred, y.unsqueeze(1)).item())"
   ],
   "execution_count": null,
   "outputs": [
    {
     "output_type": "stream",
     "name": "stdout",
     "text": [
      "tensor([[0.1384]], device='cuda:0')\n",
      "tensor([0.1041], device='cuda:0')\n",
      "0.0011714920401573181\n"
     ]
    }
   ]
  }
 ]
}
